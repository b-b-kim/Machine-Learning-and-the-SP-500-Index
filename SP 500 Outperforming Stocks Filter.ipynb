{
 "cells": [
  {
   "cell_type": "code",
   "execution_count": 1,
   "metadata": {},
   "outputs": [
    {
     "name": "stderr",
     "output_type": "stream",
     "text": [
      "/anaconda3/lib/python3.6/site-packages/statsmodels/compat/pandas.py:56: FutureWarning: The pandas.core.datetools module is deprecated and will be removed in a future version. Please use the pandas.tseries module instead.\n",
      "  from pandas.core import datetools\n",
      "/anaconda3/lib/python3.6/site-packages/sklearn/cross_validation.py:41: DeprecationWarning: This module was deprecated in version 0.18 in favor of the model_selection module into which all the refactored classes and functions are moved. Also note that the interface of the new CV iterators are different from that of this module. This module will be removed in 0.20.\n",
      "  \"This module will be removed in 0.20.\", DeprecationWarning)\n"
     ]
    }
   ],
   "source": [
    "## GET TOP STOCKS THAT OUTPERFORMED SP 500.  \n",
    "#Preprocessing \n",
    "\n",
    "from sklearn.utils import resample\n",
    "import itertools\n",
    "from sklearn import preprocessing\n",
    "import re\n",
    "from sklearn import feature_selection as f_select\n",
    "import pandas as pd\n",
    "import numpy as np\n",
    "import pickle \n",
    "import patsy\n",
    "import statsmodels.api as sm\n",
    "import statsmodels.formula.api as smf\n",
    "import matplotlib.pyplot as plt\n",
    "import seaborn as sns\n",
    "from sklearn import metrics\n",
    "from sklearn.preprocessing import PolynomialFeatures\n",
    "from sklearn.pipeline import make_pipeline\n",
    "from sklearn.cross_validation import train_test_split\n",
    "from sklearn.cross_validation import KFold\n",
    "% matplotlib inline\n",
    "sns.set_style(\"darkgrid\")\n",
    "import sklearn.linear_model\n",
    "import os\n",
    "import math\n",
    "import statsmodels.api as sm\n",
    "import pylab as pl\n",
    "from sklearn.metrics import roc_curve, auc\n",
    "from __future__ import print_function, division\n",
    "from sklearn.linear_model import LogisticRegression\n",
    "from sklearn.linear_model import RidgeCV\n",
    "from sklearn.metrics import confusion_matrix\n",
    "from sklearn import model_selection\n",
    "from sklearn.model_selection import cross_val_score"
   ]
  },
  {
   "cell_type": "code",
   "execution_count": 2,
   "metadata": {
    "collapsed": true
   },
   "outputs": [],
   "source": [
    "df = pd.read_pickle('df.pickle')\n",
    "\n",
    "\n"
   ]
  },
  {
   "cell_type": "code",
   "execution_count": 3,
   "metadata": {
    "collapsed": true
   },
   "outputs": [],
   "source": [
    "df15= df[df.periodending >= '2015-12-02']\n",
    "# df[df.year >= 2015]"
   ]
  },
  {
   "cell_type": "code",
   "execution_count": 4,
   "metadata": {},
   "outputs": [
    {
     "data": {
      "text/plain": [
       "81"
      ]
     },
     "execution_count": 4,
     "metadata": {},
     "output_type": "execute_result"
    }
   ],
   "source": [
    "len(df15)"
   ]
  },
  {
   "cell_type": "code",
   "execution_count": 5,
   "metadata": {
    "collapsed": true
   },
   "outputs": [],
   "source": [
    "df = df[df.periodending < '2015-12-02']"
   ]
  },
  {
   "cell_type": "code",
   "execution_count": 6,
   "metadata": {},
   "outputs": [
    {
     "data": {
      "text/plain": [
       "941"
      ]
     },
     "execution_count": 6,
     "metadata": {},
     "output_type": "execute_result"
    }
   ],
   "source": [
    "len(df)"
   ]
  },
  {
   "cell_type": "code",
   "execution_count": 7,
   "metadata": {
    "collapsed": true
   },
   "outputs": [],
   "source": [
    "X = df[['accountspayable',\n",
    "       'accountsreceivable', 'addlincomeexpenseitems', 'aftertaxroe',\n",
    "       'capitalexpenditures', 'capitalsurplus', 'cashratio',\n",
    "       'cashandcashequivalents', 'changesininventories', 'commonstocks',\n",
    "       'costofrevenue', 'currentratio', 'deferredassetcharges',\n",
    "       'deferredliabilitycharges', 'depreciation',\n",
    "       'earningsbeforeinterestandtax', 'earningsbeforetax',\n",
    "       'effectofexchangerate', 'equityearningslossunconsolidatedsubsidiary',\n",
    "       'fixedassets', 'goodwill', 'grossmargin', 'grossprofit', 'incometax',\n",
    "       'intangibleassets', 'interestexpense', 'inventory', 'investments',\n",
    "       'liabilities', 'longtermdebt', 'longterminvestments',\n",
    "       'minorityinterest', 'miscstocks', 'netborrowings', 'netcashflow',\n",
    "       'netcashflowoperating', 'netcashflowsfinancing',\n",
    "       'netcashflowsinvesting', 'netincome', 'netincomeadjustments',\n",
    "       'netincomeapplicabletocommonshareholders', 'netincomecontoperations',\n",
    "       'netreceivables', 'nonrecurringitems', 'operatingincome',\n",
    "       'operatingmargin', 'otherassets', 'othercurrentassets',\n",
    "       'othercurrentliabilities', 'otherequity', 'otherfinancingactivities',\n",
    "       'otherinvestingactivities', 'otherliabilities',\n",
    "       'otheroperatingactivities', 'otheroperatingitems', 'pretaxmargin',\n",
    "       'pretaxroe', 'profitmargin', 'quickratio', 'researchanddevelopment',\n",
    "       'retainedearnings', 'saleandpurchaseofstock', 'salesgeneralandadmin',\n",
    "       'shorttermdebtcurrentportionoflongtermdebt', 'shortterminvestments',\n",
    "       'totalassets', 'totalcurrentassets', 'totalcurrentliabilities',\n",
    "       'totalequity', 'totalliabilities', 'totalliabilitiesequity',\n",
    "       'totalrevenue', 'treasurystock',  'earningspershare',\n",
    "       'estimatedsharesoutstanding', 'volume',\n",
    "       'housing_prices', '30year_mort', 'dis_cost',\n",
    "       ]]\n",
    "\n"
   ]
  },
  {
   "cell_type": "code",
   "execution_count": 8,
   "metadata": {
    "collapsed": true
   },
   "outputs": [],
   "source": [
    "y = df.sp_class"
   ]
  },
  {
   "cell_type": "code",
   "execution_count": 21,
   "metadata": {
    "collapsed": true
   },
   "outputs": [],
   "source": [
    "X_train, X_test, y_train, y_test = train_test_split(X, y, test_size=0.3, random_state=42)\n",
    "\n",
    "#join back y train to X train for full train set\n",
    "train = X_train.join(y_train)\n",
    "\n",
    "#separate train set to the two classes (my two classes are closed and operating)\n",
    "outperf = train[train.sp_class == 1] \n",
    "underperf = train[train.sp_class == 0]\n",
    "\n",
    "from sklearn.utils import resample\n",
    "\n",
    "#upsample to 473 \n",
    "outperf_up = resample(outperf, n_samples = 473, replace=True)\n",
    "\n",
    "\n",
    "#add the resampled classes back together\n",
    "resampled_train = pd.concat([outperf_up, underperf])\n",
    "\n",
    "#split the resampled train into X and y\n",
    "X_up= resampled_train.drop(['sp_class'], axis = 1)\n",
    "y_up = resampled_train.sp_class\n",
    "\n"
   ]
  },
  {
   "cell_type": "markdown",
   "metadata": {},
   "source": [
    "### Logistic Regression\n"
   ]
  },
  {
   "cell_type": "code",
   "execution_count": 22,
   "metadata": {},
   "outputs": [],
   "source": [
    "X_train, X_test, y_train, y_test = train_test_split(X_up, y_up, test_size=0.3, random_state=42)\n",
    "\n",
    "\n",
    "logreg = LogisticRegression(class_weight='balanced')\n",
    "logreg.fit(X_up, y_up)\n",
    "y_pred =logreg.predict(X_test)"
   ]
  },
  {
   "cell_type": "code",
   "execution_count": 23,
   "metadata": {},
   "outputs": [
    {
     "name": "stdout",
     "output_type": "stream",
     "text": [
      "(917, 79) (917,)\n",
      "(276, 79) (276,)\n",
      "Accuracy of logistic regression classifier on test set: 0.64\n"
     ]
    }
   ],
   "source": [
    "print (X_up.shape, y_up.shape)\n",
    "print (X_test.shape, y_test.shape)\n",
    "print('Accuracy of logistic regression classifier on test set: {:.2f}'\\\n",
    "      .format(logreg.score(X_test, y_test)))"
   ]
  },
  {
   "cell_type": "code",
   "execution_count": 24,
   "metadata": {},
   "outputs": [
    {
     "name": "stdout",
     "output_type": "stream",
     "text": [
      "10-fold cross validation average accuracy: 0.650\n"
     ]
    }
   ],
   "source": [
    "\n",
    "kfold = model_selection.KFold(n_splits=10, random_state=7)\n",
    "modelCV = LogisticRegression(class_weight='balanced')\n",
    "scoring = 'accuracy'\n",
    "results = model_selection.cross_val_score(modelCV, X_up,\n",
    "                                          y_up, cv=kfold, scoring=scoring)\n",
    "print(\"10-fold cross validation average accuracy: %.3f\" % (results.mean()))\n",
    "\n"
   ]
  },
  {
   "cell_type": "code",
   "execution_count": 25,
   "metadata": {},
   "outputs": [
    {
     "name": "stdout",
     "output_type": "stream",
     "text": [
      "Logistic Regression Confusion Matrix\n",
      "[[101  28]\n",
      " [ 72  75]]\n"
     ]
    }
   ],
   "source": [
    "\n",
    "from sklearn.metrics import confusion_matrix\n",
    "logreg_con_mat = confusion_matrix(y_test, y_pred)\n",
    "print (\"Logistic Regression Confusion Matrix\")\n",
    "print(logreg_con_mat)\n"
   ]
  },
  {
   "cell_type": "code",
   "execution_count": 26,
   "metadata": {},
   "outputs": [
    {
     "data": {
      "text/plain": [
       "941"
      ]
     },
     "execution_count": 26,
     "metadata": {},
     "output_type": "execute_result"
    }
   ],
   "source": [
    "\n",
    "len(df)"
   ]
  },
  {
   "cell_type": "code",
   "execution_count": 27,
   "metadata": {},
   "outputs": [
    {
     "name": "stdout",
     "output_type": "stream",
     "text": [
      "Logistic Regression Class Report\n",
      "             precision    recall  f1-score   support\n",
      "\n",
      "          0       0.58      0.78      0.67       129\n",
      "          1       0.73      0.51      0.60       147\n",
      "\n",
      "avg / total       0.66      0.64      0.63       276\n",
      "\n"
     ]
    }
   ],
   "source": [
    "\n",
    "\n",
    "from sklearn.metrics import classification_report\n",
    "print (\"Logistic Regression Class Report\")\n",
    "print(classification_report(y_test, y_pred))\n"
   ]
  },
  {
   "cell_type": "code",
   "execution_count": 28,
   "metadata": {},
   "outputs": [
    {
     "data": {
      "image/png": "[encoded data removed]",
      "text/plain": [
       "<matplotlib.figure.Figure at 0x1c114b5438>"
      ]
     },
     "metadata": {},
     "output_type": "display_data"
    }
   ],
   "source": [
    "\n",
    "from sklearn.metrics import roc_auc_score\n",
    "from sklearn.metrics import roc_curve\n",
    "logit_roc_auc = roc_auc_score(y_test, logreg.predict(X_test))\n",
    "fpr, tpr, thresholds = roc_curve(y_test, logreg.predict_proba(X_test)[:,1])\n",
    "plt.figure()\n",
    "plt.plot(fpr, tpr, label='Logistic Regression (area = %0.2f)' % logit_roc_auc)\n",
    "plt.plot([0, 1], [0, 1],'r--')\n",
    "plt.xlim([0.0, 1.0])\n",
    "plt.ylim([0.0, 1.05])\n",
    "plt.xlabel('False Positive Rate')\n",
    "plt.ylabel('True Positive Rate')\n",
    "plt.title('Logistic Regression ROC')\n",
    "plt.legend(loc=\"lower right\")\n",
    "plt.savefig('Log_ROC')\n",
    "plt.show()"
   ]
  },
  {
   "cell_type": "markdown",
   "metadata": {},
   "source": [
    "### RANDOM FOREST "
   ]
  },
  {
   "cell_type": "code",
   "execution_count": 29,
   "metadata": {},
   "outputs": [
    {
     "name": "stdout",
     "output_type": "stream",
     "text": [
      "Mean accuracy score: 0.797\n",
      "0.797101449275\n"
     ]
    }
   ],
   "source": [
    "from sklearn.ensemble import RandomForestClassifier\n",
    "from sklearn.metrics import accuracy_score\n",
    "rf_model = RandomForestClassifier(max_depth= 10, min_samples_leaf=40, n_estimators= 10)\n",
    "    \n",
    "rf_model.fit(X_up, y_up)\n",
    "\n",
    "predicted = rf_model.predict(X_test)\n",
    "accuracy = accuracy_score(y_test, predicted)\n",
    "\n",
    "print(f'Mean accuracy score: {accuracy:.3}')\n",
    "print(accuracy)"
   ]
  },
  {
   "cell_type": "code",
   "execution_count": 30,
   "metadata": {},
   "outputs": [
    {
     "data": {
      "text/plain": [
       "917"
      ]
     },
     "execution_count": 30,
     "metadata": {},
     "output_type": "execute_result"
    }
   ],
   "source": [
    "len(X_up)"
   ]
  },
  {
   "cell_type": "code",
   "execution_count": 31,
   "metadata": {},
   "outputs": [
    {
     "data": {
      "text/plain": [
       "917"
      ]
     },
     "execution_count": 31,
     "metadata": {},
     "output_type": "execute_result"
    }
   ],
   "source": [
    "len(y_up)"
   ]
  },
  {
   "cell_type": "code",
   "execution_count": 32,
   "metadata": {},
   "outputs": [
    {
     "data": {
      "image/png": "[encoded data removed]",
      "text/plain": [
       "<matplotlib.figure.Figure at 0x1c1124e828>"
      ]
     },
     "metadata": {},
     "output_type": "display_data"
    }
   ],
   "source": [
    "##Random forest \n",
    "rand_roc_auc = roc_auc_score(y_test, rf_model.predict(X_test))\n",
    "fpr, tpr, thresholds = roc_curve(y_test, rf_model.predict_proba(X_test)[:,1])\n",
    "plt.figure()\n",
    "plt.plot(fpr, tpr, label='Random Forest (area = %0.2f)' % rand_roc_auc)\n",
    "plt.plot([0, 1], [0, 1],'r--')\n",
    "plt.xlim([0.0, 1.0])\n",
    "plt.ylim([0.0, 1.05])\n",
    "plt.xlabel('False Positive Rate')\n",
    "plt.ylabel('True Positive Rate')\n",
    "plt.title('Random Forest Receiver operating characteristic')\n",
    "plt.legend(loc=\"lower right\")\n",
    "plt.savefig('Random Forest_ROC')\n",
    "plt.show()"
   ]
  },
  {
   "cell_type": "code",
   "execution_count": 33,
   "metadata": {},
   "outputs": [
    {
     "name": "stdout",
     "output_type": "stream",
     "text": [
      "Random Forest Regression Confusion Matrix\n",
      "[[100  29]\n",
      " [ 27 120]]\n",
      "Random Forest Classification Report\n"
     ]
    },
    {
     "ename": "NameError",
     "evalue": "name 'rfpredicted' is not defined",
     "output_type": "error",
     "traceback": [
      "\u001b[0;31m---------------------------------------------------------------------------\u001b[0m",
      "\u001b[0;31mNameError\u001b[0m                                 Traceback (most recent call last)",
      "\u001b[0;32m<ipython-input-33-f39d04bdc971>\u001b[0m in \u001b[0;36m<module>\u001b[0;34m()\u001b[0m\n\u001b[1;32m      5\u001b[0m \u001b[0;34m\u001b[0m\u001b[0m\n\u001b[1;32m      6\u001b[0m \u001b[0mprint\u001b[0m \u001b[0;34m(\u001b[0m\u001b[0;34m\"Random Forest Classification Report\"\u001b[0m\u001b[0;34m)\u001b[0m\u001b[0;34m\u001b[0m\u001b[0m\n\u001b[0;32m----> 7\u001b[0;31m \u001b[0mprint\u001b[0m\u001b[0;34m(\u001b[0m\u001b[0mclassification_report\u001b[0m\u001b[0;34m(\u001b[0m\u001b[0my_test\u001b[0m\u001b[0;34m,\u001b[0m \u001b[0mrfpredicted\u001b[0m\u001b[0;34m)\u001b[0m\u001b[0;34m)\u001b[0m\u001b[0;34m\u001b[0m\u001b[0m\n\u001b[0m",
      "\u001b[0;31mNameError\u001b[0m: name 'rfpredicted' is not defined"
     ]
    }
   ],
   "source": [
    "\n",
    "logreg_con_mat = confusion_matrix(y_test, predicted)\n",
    "print (\"Random Forest Regression Confusion Matrix\")\n",
    "print(logreg_con_mat)\n",
    "\n",
    "print (\"Random Forest Classification Report\")\n",
    "print(classification_report(y_test, rfpredicted))"
   ]
  },
  {
   "cell_type": "markdown",
   "metadata": {},
   "source": [
    "### AFTER GRID SEARCH {'max_depth': 25, 'min_samples_split': 2, 'n_estimators': 80}"
   ]
  },
  {
   "cell_type": "code",
   "execution_count": 34,
   "metadata": {},
   "outputs": [
    {
     "data": {
      "text/plain": [
       "{'max_depth': 25, 'min_samples_split': 10, 'n_estimators': 50}"
      ]
     },
     "execution_count": 34,
     "metadata": {},
     "output_type": "execute_result"
    }
   ],
   "source": [
    "{'max_depth': 25, 'min_samples_split': 10, 'n_estimators': 50}"
   ]
  },
  {
   "cell_type": "code",
   "execution_count": 41,
   "metadata": {},
   "outputs": [
    {
     "name": "stdout",
     "output_type": "stream",
     "text": [
      "Mean accuracy score: 1.0\n",
      "1.0\n"
     ]
    }
   ],
   "source": [
    "##AFTER GRID SEARCH {'max_depth': 25, 'min_samples_split': 2, 'n_estimators': 80}\n",
    "rf_model = RandomForestClassifier(max_depth= 25, min_samples_split=2, n_estimators= 80)\n",
    "    \n",
    "rf_model.fit(X_up, y_up)\n",
    "\n",
    "rfpredicted = rf_model.predict(X_test)\n",
    "accuracy = accuracy_score(y_test, rfpredicted)\n",
    "\n",
    "print(f'Mean accuracy score: {accuracy:.3}')\n",
    "print (accuracy)"
   ]
  },
  {
   "cell_type": "code",
   "execution_count": null,
   "metadata": {
    "collapsed": true
   },
   "outputs": [],
   "source": []
  },
  {
   "cell_type": "code",
   "execution_count": 36,
   "metadata": {},
   "outputs": [
    {
     "data": {
      "text/html": [
       "<div>\n",
       "<style>\n",
       "    .dataframe thead tr:only-child th {\n",
       "        text-align: right;\n",
       "    }\n",
       "\n",
       "    .dataframe thead th {\n",
       "        text-align: left;\n",
       "    }\n",
       "\n",
       "    .dataframe tbody tr th {\n",
       "        vertical-align: top;\n",
       "    }\n",
       "</style>\n",
       "<table border=\"1\" class=\"dataframe\">\n",
       "  <thead>\n",
       "    <tr style=\"text-align: right;\">\n",
       "      <th></th>\n",
       "      <th>Features</th>\n",
       "      <th>Importance Score</th>\n",
       "    </tr>\n",
       "  </thead>\n",
       "  <tbody>\n",
       "    <tr>\n",
       "      <th>77</th>\n",
       "      <td>30year_mort</td>\n",
       "      <td>0.048845</td>\n",
       "    </tr>\n",
       "    <tr>\n",
       "      <th>2</th>\n",
       "      <td>addlincomeexpenseitems</td>\n",
       "      <td>0.028851</td>\n",
       "    </tr>\n",
       "    <tr>\n",
       "      <th>1</th>\n",
       "      <td>accountsreceivable</td>\n",
       "      <td>0.025465</td>\n",
       "    </tr>\n",
       "    <tr>\n",
       "      <th>76</th>\n",
       "      <td>housing_prices</td>\n",
       "      <td>0.021544</td>\n",
       "    </tr>\n",
       "    <tr>\n",
       "      <th>78</th>\n",
       "      <td>dis_cost</td>\n",
       "      <td>0.020480</td>\n",
       "    </tr>\n",
       "  </tbody>\n",
       "</table>\n",
       "</div>"
      ],
      "text/plain": [
       "                  Features  Importance Score\n",
       "77             30year_mort          0.048845\n",
       "2   addlincomeexpenseitems          0.028851\n",
       "1       accountsreceivable          0.025465\n",
       "76          housing_prices          0.021544\n",
       "78                dis_cost          0.020480"
      ]
     },
     "execution_count": 36,
     "metadata": {},
     "output_type": "execute_result"
    }
   ],
   "source": [
    "\n",
    "features = X.columns\n",
    "feature_importances = rf_model.feature_importances_\n",
    "\n",
    "features_df = pd.DataFrame({'Features': features, 'Importance Score': feature_importances})\n",
    "features_df.sort_values('Importance Score', inplace=True, ascending=False)\n",
    "features_df.head()"
   ]
  },
  {
   "cell_type": "code",
   "execution_count": 37,
   "metadata": {},
   "outputs": [
    {
     "name": "stderr",
     "output_type": "stream",
     "text": [
      "/anaconda3/lib/python3.6/site-packages/sklearn/grid_search.py:42: DeprecationWarning: This module was deprecated in version 0.18 in favor of the model_selection module into which all the refactored classes and functions are moved. This module will be removed in 0.20.\n",
      "  DeprecationWarning)\n"
     ]
    },
    {
     "name": "stdout",
     "output_type": "stream",
     "text": [
      "{'max_depth': 25, 'min_samples_split': 2, 'n_estimators': 20}\n"
     ]
    }
   ],
   "source": [
    "from sklearn.grid_search import GridSearchCV\n",
    "\n",
    "rf_model= RandomForestClassifier(n_estimators = 10, max_depth = 10, min_samples_split =2) \n",
    "# Use a grid over parameters of interest\n",
    "param_grid = { \n",
    "           \"n_estimators\" : [5, 10, 20, 50 , 80],\n",
    "           \"max_depth\" : [1, 5, 10, 15, 25],\n",
    "           \"min_samples_split\" : [2, 10, 20, 40, 80]}\n",
    "\n",
    "CV_rfc = GridSearchCV(estimator=rf_model, param_grid=param_grid, cv= 10)\n",
    "CV_rfc.fit(X_up, y_up)\n",
    "print (CV_rfc.best_params_)"
   ]
  },
  {
   "cell_type": "code",
   "execution_count": 38,
   "metadata": {
    "scrolled": true
   },
   "outputs": [
    {
     "data": {
      "text/plain": [
       "0    444\n",
       "1    214\n",
       "Name: sp_class, dtype: int64"
      ]
     },
     "execution_count": 38,
     "metadata": {},
     "output_type": "execute_result"
    }
   ],
   "source": [
    "\n",
    "\n",
    "train.sp_class.value_counts()"
   ]
  },
  {
   "cell_type": "code",
   "execution_count": 39,
   "metadata": {},
   "outputs": [
    {
     "data": {
      "text/plain": [
       "941"
      ]
     },
     "execution_count": 39,
     "metadata": {},
     "output_type": "execute_result"
    }
   ],
   "source": [
    "len(df)\n"
   ]
  },
  {
   "cell_type": "code",
   "execution_count": 42,
   "metadata": {},
   "outputs": [
    {
     "data": {
      "text/plain": [
       "array([0, 1, 1, 0, 0, 0, 1, 0, 1, 0, 0, 0, 0, 0, 0, 1, 0, 1, 0, 0])"
      ]
     },
     "execution_count": 42,
     "metadata": {},
     "output_type": "execute_result"
    }
   ],
   "source": [
    "rf_model.predict(X_test)[0:20]"
   ]
  },
  {
   "cell_type": "code",
   "execution_count": 43,
   "metadata": {},
   "outputs": [
    {
     "data": {
      "text/plain": [
       "276"
      ]
     },
     "execution_count": 43,
     "metadata": {},
     "output_type": "execute_result"
    }
   ],
   "source": [
    "len(X_test)"
   ]
  },
  {
   "cell_type": "code",
   "execution_count": 46,
   "metadata": {},
   "outputs": [],
   "source": [
    "df15['pred_prob']=[v[1] for v in rf_model.predict_proba(x15)]"
   ]
  },
  {
   "cell_type": "code",
   "execution_count": 48,
   "metadata": {},
   "outputs": [
    {
     "data": {
      "text/html": [
       "<div>\n",
       "<style>\n",
       "    .dataframe thead tr:only-child th {\n",
       "        text-align: right;\n",
       "    }\n",
       "\n",
       "    .dataframe thead th {\n",
       "        text-align: left;\n",
       "    }\n",
       "\n",
       "    .dataframe tbody tr th {\n",
       "        vertical-align: top;\n",
       "    }\n",
       "</style>\n",
       "<table border=\"1\" class=\"dataframe\">\n",
       "  <thead>\n",
       "    <tr style=\"text-align: right;\">\n",
       "      <th></th>\n",
       "      <th>unnamed</th>\n",
       "      <th>ticker</th>\n",
       "      <th>periodending</th>\n",
       "      <th>accountspayable</th>\n",
       "      <th>accountsreceivable</th>\n",
       "      <th>addlincomeexpenseitems</th>\n",
       "      <th>aftertaxroe</th>\n",
       "      <th>capitalexpenditures</th>\n",
       "      <th>capitalsurplus</th>\n",
       "      <th>cashratio</th>\n",
       "      <th>...</th>\n",
       "      <th>30year_mort</th>\n",
       "      <th>sp_return</th>\n",
       "      <th>index</th>\n",
       "      <th>dis_cost</th>\n",
       "      <th>co_return</th>\n",
       "      <th>ret_vs_sp</th>\n",
       "      <th>log_co_return</th>\n",
       "      <th>return_class</th>\n",
       "      <th>sp_class</th>\n",
       "      <th>pred_prob</th>\n",
       "    </tr>\n",
       "  </thead>\n",
       "  <tbody>\n",
       "    <tr>\n",
       "      <th>312</th>\n",
       "      <td>312</td>\n",
       "      <td>CHTR</td>\n",
       "      <td>2015-12-31</td>\n",
       "      <td>0.031354</td>\n",
       "      <td>0.674713</td>\n",
       "      <td>0.236832</td>\n",
       "      <td>0.101745</td>\n",
       "      <td>0.951560</td>\n",
       "      <td>0.029941</td>\n",
       "      <td>0.000000</td>\n",
       "      <td>...</td>\n",
       "      <td>0.02</td>\n",
       "      <td>0.0138</td>\n",
       "      <td>35</td>\n",
       "      <td>0.039020</td>\n",
       "      <td>0.502262</td>\n",
       "      <td>0.488462</td>\n",
       "      <td>-0.688633</td>\n",
       "      <td>1</td>\n",
       "      <td>1</td>\n",
       "      <td>0.8125</td>\n",
       "    </tr>\n",
       "    <tr>\n",
       "      <th>212</th>\n",
       "      <td>212</td>\n",
       "      <td>BCR</td>\n",
       "      <td>2015-12-31</td>\n",
       "      <td>0.015487</td>\n",
       "      <td>0.672309</td>\n",
       "      <td>0.220279</td>\n",
       "      <td>0.001555</td>\n",
       "      <td>0.997291</td>\n",
       "      <td>0.031252</td>\n",
       "      <td>0.078770</td>\n",
       "      <td>...</td>\n",
       "      <td>0.02</td>\n",
       "      <td>0.0138</td>\n",
       "      <td>35</td>\n",
       "      <td>0.039020</td>\n",
       "      <td>0.191842</td>\n",
       "      <td>0.178042</td>\n",
       "      <td>-1.651085</td>\n",
       "      <td>1</td>\n",
       "      <td>1</td>\n",
       "      <td>0.7250</td>\n",
       "    </tr>\n",
       "    <tr>\n",
       "      <th>414</th>\n",
       "      <td>414</td>\n",
       "      <td>CTXS</td>\n",
       "      <td>2015-12-31</td>\n",
       "      <td>0.005928</td>\n",
       "      <td>0.673435</td>\n",
       "      <td>0.244567</td>\n",
       "      <td>0.002764</td>\n",
       "      <td>0.995766</td>\n",
       "      <td>0.057590</td>\n",
       "      <td>0.049952</td>\n",
       "      <td>...</td>\n",
       "      <td>0.02</td>\n",
       "      <td>0.0138</td>\n",
       "      <td>35</td>\n",
       "      <td>0.039020</td>\n",
       "      <td>0.093739</td>\n",
       "      <td>0.079939</td>\n",
       "      <td>-2.367242</td>\n",
       "      <td>2</td>\n",
       "      <td>1</td>\n",
       "      <td>0.6875</td>\n",
       "    </tr>\n",
       "    <tr>\n",
       "      <th>90</th>\n",
       "      <td>90</td>\n",
       "      <td>ALLE</td>\n",
       "      <td>2015-12-31</td>\n",
       "      <td>0.005108</td>\n",
       "      <td>0.672780</td>\n",
       "      <td>0.239106</td>\n",
       "      <td>0.103818</td>\n",
       "      <td>0.999073</td>\n",
       "      <td>0.008123</td>\n",
       "      <td>0.043228</td>\n",
       "      <td>...</td>\n",
       "      <td>0.02</td>\n",
       "      <td>0.0138</td>\n",
       "      <td>35</td>\n",
       "      <td>0.039020</td>\n",
       "      <td>0.070410</td>\n",
       "      <td>0.056610</td>\n",
       "      <td>-2.653418</td>\n",
       "      <td>2</td>\n",
       "      <td>1</td>\n",
       "      <td>0.6500</td>\n",
       "    </tr>\n",
       "    <tr>\n",
       "      <th>1025</th>\n",
       "      <td>1025</td>\n",
       "      <td>MAS</td>\n",
       "      <td>2015-12-31</td>\n",
       "      <td>0.021898</td>\n",
       "      <td>0.663323</td>\n",
       "      <td>0.244250</td>\n",
       "      <td>0.045431</td>\n",
       "      <td>0.995840</td>\n",
       "      <td>0.007857</td>\n",
       "      <td>0.058598</td>\n",
       "      <td>...</td>\n",
       "      <td>0.02</td>\n",
       "      <td>0.0138</td>\n",
       "      <td>35</td>\n",
       "      <td>0.039020</td>\n",
       "      <td>0.208852</td>\n",
       "      <td>0.195052</td>\n",
       "      <td>-1.566127</td>\n",
       "      <td>1</td>\n",
       "      <td>1</td>\n",
       "      <td>0.6250</td>\n",
       "    </tr>\n",
       "    <tr>\n",
       "      <th>618</th>\n",
       "      <td>618</td>\n",
       "      <td>FB</td>\n",
       "      <td>2015-12-31</td>\n",
       "      <td>0.025958</td>\n",
       "      <td>0.572518</td>\n",
       "      <td>0.244250</td>\n",
       "      <td>0.001382</td>\n",
       "      <td>0.933579</td>\n",
       "      <td>0.387757</td>\n",
       "      <td>0.920269</td>\n",
       "      <td>...</td>\n",
       "      <td>0.02</td>\n",
       "      <td>0.0138</td>\n",
       "      <td>35</td>\n",
       "      <td>0.039020</td>\n",
       "      <td>0.222640</td>\n",
       "      <td>0.208840</td>\n",
       "      <td>-1.502199</td>\n",
       "      <td>1</td>\n",
       "      <td>1</td>\n",
       "      <td>0.5875</td>\n",
       "    </tr>\n",
       "    <tr>\n",
       "      <th>1500</th>\n",
       "      <td>1500</td>\n",
       "      <td>TAP</td>\n",
       "      <td>2015-12-31</td>\n",
       "      <td>0.018357</td>\n",
       "      <td>0.680543</td>\n",
       "      <td>0.244741</td>\n",
       "      <td>0.000864</td>\n",
       "      <td>0.992760</td>\n",
       "      <td>0.051420</td>\n",
       "      <td>0.033622</td>\n",
       "      <td>...</td>\n",
       "      <td>0.02</td>\n",
       "      <td>0.0138</td>\n",
       "      <td>35</td>\n",
       "      <td>0.039020</td>\n",
       "      <td>0.169329</td>\n",
       "      <td>0.155529</td>\n",
       "      <td>-1.775909</td>\n",
       "      <td>1</td>\n",
       "      <td>1</td>\n",
       "      <td>0.5750</td>\n",
       "    </tr>\n",
       "    <tr>\n",
       "      <th>1009</th>\n",
       "      <td>1009</td>\n",
       "      <td>MA</td>\n",
       "      <td>2015-12-31</td>\n",
       "      <td>0.066486</td>\n",
       "      <td>0.660293</td>\n",
       "      <td>0.241101</td>\n",
       "      <td>0.010883</td>\n",
       "      <td>0.995340</td>\n",
       "      <td>0.051459</td>\n",
       "      <td>0.124880</td>\n",
       "      <td>...</td>\n",
       "      <td>0.02</td>\n",
       "      <td>0.0138</td>\n",
       "      <td>35</td>\n",
       "      <td>0.039020</td>\n",
       "      <td>0.054384</td>\n",
       "      <td>0.040584</td>\n",
       "      <td>-2.911681</td>\n",
       "      <td>2</td>\n",
       "      <td>1</td>\n",
       "      <td>0.5000</td>\n",
       "    </tr>\n",
       "    <tr>\n",
       "      <th>1436</th>\n",
       "      <td>1436</td>\n",
       "      <td>SPGI</td>\n",
       "      <td>2015-12-31</td>\n",
       "      <td>0.011452</td>\n",
       "      <td>0.661860</td>\n",
       "      <td>0.244837</td>\n",
       "      <td>0.102954</td>\n",
       "      <td>0.996341</td>\n",
       "      <td>0.013030</td>\n",
       "      <td>0.048991</td>\n",
       "      <td>...</td>\n",
       "      <td>0.02</td>\n",
       "      <td>0.0138</td>\n",
       "      <td>35</td>\n",
       "      <td>0.039020</td>\n",
       "      <td>0.174694</td>\n",
       "      <td>0.160894</td>\n",
       "      <td>-1.744720</td>\n",
       "      <td>1</td>\n",
       "      <td>1</td>\n",
       "      <td>0.4625</td>\n",
       "    </tr>\n",
       "    <tr>\n",
       "      <th>122</th>\n",
       "      <td>122</td>\n",
       "      <td>AMZN</td>\n",
       "      <td>2015-12-31</td>\n",
       "      <td>0.506560</td>\n",
       "      <td>0.490805</td>\n",
       "      <td>0.233257</td>\n",
       "      <td>0.000691</td>\n",
       "      <td>0.879189</td>\n",
       "      <td>0.153714</td>\n",
       "      <td>0.055716</td>\n",
       "      <td>...</td>\n",
       "      <td>0.02</td>\n",
       "      <td>0.0138</td>\n",
       "      <td>35</td>\n",
       "      <td>0.039020</td>\n",
       "      <td>0.216710</td>\n",
       "      <td>0.202910</td>\n",
       "      <td>-1.529197</td>\n",
       "      <td>1</td>\n",
       "      <td>1</td>\n",
       "      <td>0.4500</td>\n",
       "    </tr>\n",
       "    <tr>\n",
       "      <th>662</th>\n",
       "      <td>662</td>\n",
       "      <td>FLS</td>\n",
       "      <td>2015-12-31</td>\n",
       "      <td>0.020069</td>\n",
       "      <td>0.679461</td>\n",
       "      <td>0.242217</td>\n",
       "      <td>0.002764</td>\n",
       "      <td>0.995212</td>\n",
       "      <td>0.013247</td>\n",
       "      <td>0.025937</td>\n",
       "      <td>...</td>\n",
       "      <td>0.02</td>\n",
       "      <td>0.0138</td>\n",
       "      <td>35</td>\n",
       "      <td>0.039020</td>\n",
       "      <td>-0.167674</td>\n",
       "      <td>-0.181474</td>\n",
       "      <td>NaN</td>\n",
       "      <td>3</td>\n",
       "      <td>0</td>\n",
       "      <td>0.6875</td>\n",
       "    </tr>\n",
       "    <tr>\n",
       "      <th>722</th>\n",
       "      <td>722</td>\n",
       "      <td>GT</td>\n",
       "      <td>2015-12-31</td>\n",
       "      <td>0.055496</td>\n",
       "      <td>0.670951</td>\n",
       "      <td>0.217301</td>\n",
       "      <td>0.001382</td>\n",
       "      <td>0.974121</td>\n",
       "      <td>0.041539</td>\n",
       "      <td>0.028818</td>\n",
       "      <td>...</td>\n",
       "      <td>0.02</td>\n",
       "      <td>0.0138</td>\n",
       "      <td>35</td>\n",
       "      <td>0.039020</td>\n",
       "      <td>-0.051143</td>\n",
       "      <td>-0.064943</td>\n",
       "      <td>NaN</td>\n",
       "      <td>3</td>\n",
       "      <td>0</td>\n",
       "      <td>0.6875</td>\n",
       "    </tr>\n",
       "    <tr>\n",
       "      <th>1779</th>\n",
       "      <td>1779</td>\n",
       "      <td>ZTS</td>\n",
       "      <td>2015-12-31</td>\n",
       "      <td>0.020479</td>\n",
       "      <td>0.668130</td>\n",
       "      <td>0.239927</td>\n",
       "      <td>0.005528</td>\n",
       "      <td>0.994103</td>\n",
       "      <td>0.018877</td>\n",
       "      <td>0.062440</td>\n",
       "      <td>...</td>\n",
       "      <td>0.02</td>\n",
       "      <td>0.0138</td>\n",
       "      <td>35</td>\n",
       "      <td>0.039020</td>\n",
       "      <td>-0.028891</td>\n",
       "      <td>-0.042691</td>\n",
       "      <td>NaN</td>\n",
       "      <td>3</td>\n",
       "      <td>0</td>\n",
       "      <td>0.6125</td>\n",
       "    </tr>\n",
       "    <tr>\n",
       "      <th>1400</th>\n",
       "      <td>1400</td>\n",
       "      <td>SEE</td>\n",
       "      <td>2015-12-31</td>\n",
       "      <td>0.009852</td>\n",
       "      <td>0.678025</td>\n",
       "      <td>0.238391</td>\n",
       "      <td>0.007428</td>\n",
       "      <td>0.995156</td>\n",
       "      <td>0.028711</td>\n",
       "      <td>0.018252</td>\n",
       "      <td>...</td>\n",
       "      <td>0.02</td>\n",
       "      <td>0.0138</td>\n",
       "      <td>35</td>\n",
       "      <td>0.039020</td>\n",
       "      <td>-0.049098</td>\n",
       "      <td>-0.062898</td>\n",
       "      <td>NaN</td>\n",
       "      <td>3</td>\n",
       "      <td>0</td>\n",
       "      <td>0.5875</td>\n",
       "    </tr>\n",
       "    <tr>\n",
       "      <th>746</th>\n",
       "      <td>746</td>\n",
       "      <td>HBI</td>\n",
       "      <td>2016-01-02</td>\n",
       "      <td>0.017514</td>\n",
       "      <td>0.671894</td>\n",
       "      <td>0.244079</td>\n",
       "      <td>0.005873</td>\n",
       "      <td>0.997384</td>\n",
       "      <td>0.010880</td>\n",
       "      <td>0.020173</td>\n",
       "      <td>...</td>\n",
       "      <td>0.48</td>\n",
       "      <td>0.1177</td>\n",
       "      <td>36</td>\n",
       "      <td>0.292196</td>\n",
       "      <td>0.000000</td>\n",
       "      <td>-0.117700</td>\n",
       "      <td>-inf</td>\n",
       "      <td>2</td>\n",
       "      <td>0</td>\n",
       "      <td>0.5750</td>\n",
       "    </tr>\n",
       "    <tr>\n",
       "      <th>494</th>\n",
       "      <td>494</td>\n",
       "      <td>DOV</td>\n",
       "      <td>2015-12-31</td>\n",
       "      <td>0.018879</td>\n",
       "      <td>0.678152</td>\n",
       "      <td>0.244865</td>\n",
       "      <td>0.004146</td>\n",
       "      <td>0.995939</td>\n",
       "      <td>0.017967</td>\n",
       "      <td>0.024976</td>\n",
       "      <td>...</td>\n",
       "      <td>0.02</td>\n",
       "      <td>0.0138</td>\n",
       "      <td>35</td>\n",
       "      <td>0.039020</td>\n",
       "      <td>-0.008229</td>\n",
       "      <td>-0.022029</td>\n",
       "      <td>NaN</td>\n",
       "      <td>3</td>\n",
       "      <td>0</td>\n",
       "      <td>0.5625</td>\n",
       "    </tr>\n",
       "    <tr>\n",
       "      <th>126</th>\n",
       "      <td>126</td>\n",
       "      <td>AN</td>\n",
       "      <td>2015-12-31</td>\n",
       "      <td>0.046102</td>\n",
       "      <td>0.664598</td>\n",
       "      <td>0.244186</td>\n",
       "      <td>0.003282</td>\n",
       "      <td>0.993482</td>\n",
       "      <td>0.007914</td>\n",
       "      <td>0.000961</td>\n",
       "      <td>...</td>\n",
       "      <td>0.02</td>\n",
       "      <td>0.0138</td>\n",
       "      <td>35</td>\n",
       "      <td>0.039020</td>\n",
       "      <td>-0.113444</td>\n",
       "      <td>-0.127244</td>\n",
       "      <td>NaN</td>\n",
       "      <td>3</td>\n",
       "      <td>0</td>\n",
       "      <td>0.5500</td>\n",
       "    </tr>\n",
       "    <tr>\n",
       "      <th>418</th>\n",
       "      <td>418</td>\n",
       "      <td>CVS</td>\n",
       "      <td>2015-12-31</td>\n",
       "      <td>0.235103</td>\n",
       "      <td>0.840752</td>\n",
       "      <td>0.244250</td>\n",
       "      <td>0.002418</td>\n",
       "      <td>0.937686</td>\n",
       "      <td>0.344873</td>\n",
       "      <td>0.010567</td>\n",
       "      <td>...</td>\n",
       "      <td>0.02</td>\n",
       "      <td>0.0138</td>\n",
       "      <td>35</td>\n",
       "      <td>0.039020</td>\n",
       "      <td>-0.064786</td>\n",
       "      <td>-0.078586</td>\n",
       "      <td>NaN</td>\n",
       "      <td>3</td>\n",
       "      <td>0</td>\n",
       "      <td>0.5500</td>\n",
       "    </tr>\n",
       "    <tr>\n",
       "      <th>94</th>\n",
       "      <td>94</td>\n",
       "      <td>ALXN</td>\n",
       "      <td>2015-12-31</td>\n",
       "      <td>0.006403</td>\n",
       "      <td>0.662069</td>\n",
       "      <td>0.244730</td>\n",
       "      <td>0.000345</td>\n",
       "      <td>0.992471</td>\n",
       "      <td>0.092002</td>\n",
       "      <td>0.187320</td>\n",
       "      <td>...</td>\n",
       "      <td>0.02</td>\n",
       "      <td>0.0138</td>\n",
       "      <td>35</td>\n",
       "      <td>0.039020</td>\n",
       "      <td>-0.110373</td>\n",
       "      <td>-0.124173</td>\n",
       "      <td>NaN</td>\n",
       "      <td>3</td>\n",
       "      <td>0</td>\n",
       "      <td>0.5375</td>\n",
       "    </tr>\n",
       "    <tr>\n",
       "      <th>244</th>\n",
       "      <td>244</td>\n",
       "      <td>BWA</td>\n",
       "      <td>2015-12-31</td>\n",
       "      <td>0.030426</td>\n",
       "      <td>0.665643</td>\n",
       "      <td>0.244650</td>\n",
       "      <td>0.002937</td>\n",
       "      <td>0.984802</td>\n",
       "      <td>0.019941</td>\n",
       "      <td>0.024015</td>\n",
       "      <td>...</td>\n",
       "      <td>0.02</td>\n",
       "      <td>0.0138</td>\n",
       "      <td>35</td>\n",
       "      <td>0.039020</td>\n",
       "      <td>-0.329471</td>\n",
       "      <td>-0.343271</td>\n",
       "      <td>NaN</td>\n",
       "      <td>3</td>\n",
       "      <td>0</td>\n",
       "      <td>0.5375</td>\n",
       "    </tr>\n",
       "  </tbody>\n",
       "</table>\n",
       "<p>20 rows × 94 columns</p>\n",
       "</div>"
      ],
      "text/plain": [
       "      unnamed ticker periodending  accountspayable  accountsreceivable  \\\n",
       "312       312   CHTR   2015-12-31         0.031354            0.674713   \n",
       "212       212    BCR   2015-12-31         0.015487            0.672309   \n",
       "414       414   CTXS   2015-12-31         0.005928            0.673435   \n",
       "90         90   ALLE   2015-12-31         0.005108            0.672780   \n",
       "1025     1025    MAS   2015-12-31         0.021898            0.663323   \n",
       "618       618     FB   2015-12-31         0.025958            0.572518   \n",
       "1500     1500    TAP   2015-12-31         0.018357            0.680543   \n",
       "1009     1009     MA   2015-12-31         0.066486            0.660293   \n",
       "1436     1436   SPGI   2015-12-31         0.011452            0.661860   \n",
       "122       122   AMZN   2015-12-31         0.506560            0.490805   \n",
       "662       662    FLS   2015-12-31         0.020069            0.679461   \n",
       "722       722     GT   2015-12-31         0.055496            0.670951   \n",
       "1779     1779    ZTS   2015-12-31         0.020479            0.668130   \n",
       "1400     1400    SEE   2015-12-31         0.009852            0.678025   \n",
       "746       746    HBI   2016-01-02         0.017514            0.671894   \n",
       "494       494    DOV   2015-12-31         0.018879            0.678152   \n",
       "126       126     AN   2015-12-31         0.046102            0.664598   \n",
       "418       418    CVS   2015-12-31         0.235103            0.840752   \n",
       "94         94   ALXN   2015-12-31         0.006403            0.662069   \n",
       "244       244    BWA   2015-12-31         0.030426            0.665643   \n",
       "\n",
       "      addlincomeexpenseitems  aftertaxroe  capitalexpenditures  \\\n",
       "312                 0.236832     0.101745             0.951560   \n",
       "212                 0.220279     0.001555             0.997291   \n",
       "414                 0.244567     0.002764             0.995766   \n",
       "90                  0.239106     0.103818             0.999073   \n",
       "1025                0.244250     0.045431             0.995840   \n",
       "618                 0.244250     0.001382             0.933579   \n",
       "1500                0.244741     0.000864             0.992760   \n",
       "1009                0.241101     0.010883             0.995340   \n",
       "1436                0.244837     0.102954             0.996341   \n",
       "122                 0.233257     0.000691             0.879189   \n",
       "662                 0.242217     0.002764             0.995212   \n",
       "722                 0.217301     0.001382             0.974121   \n",
       "1779                0.239927     0.005528             0.994103   \n",
       "1400                0.238391     0.007428             0.995156   \n",
       "746                 0.244079     0.005873             0.997384   \n",
       "494                 0.244865     0.004146             0.995939   \n",
       "126                 0.244186     0.003282             0.993482   \n",
       "418                 0.244250     0.002418             0.937686   \n",
       "94                  0.244730     0.000345             0.992471   \n",
       "244                 0.244650     0.002937             0.984802   \n",
       "\n",
       "      capitalsurplus  cashratio    ...      30year_mort  sp_return  index  \\\n",
       "312         0.029941   0.000000    ...             0.02     0.0138     35   \n",
       "212         0.031252   0.078770    ...             0.02     0.0138     35   \n",
       "414         0.057590   0.049952    ...             0.02     0.0138     35   \n",
       "90          0.008123   0.043228    ...             0.02     0.0138     35   \n",
       "1025        0.007857   0.058598    ...             0.02     0.0138     35   \n",
       "618         0.387757   0.920269    ...             0.02     0.0138     35   \n",
       "1500        0.051420   0.033622    ...             0.02     0.0138     35   \n",
       "1009        0.051459   0.124880    ...             0.02     0.0138     35   \n",
       "1436        0.013030   0.048991    ...             0.02     0.0138     35   \n",
       "122         0.153714   0.055716    ...             0.02     0.0138     35   \n",
       "662         0.013247   0.025937    ...             0.02     0.0138     35   \n",
       "722         0.041539   0.028818    ...             0.02     0.0138     35   \n",
       "1779        0.018877   0.062440    ...             0.02     0.0138     35   \n",
       "1400        0.028711   0.018252    ...             0.02     0.0138     35   \n",
       "746         0.010880   0.020173    ...             0.48     0.1177     36   \n",
       "494         0.017967   0.024976    ...             0.02     0.0138     35   \n",
       "126         0.007914   0.000961    ...             0.02     0.0138     35   \n",
       "418         0.344873   0.010567    ...             0.02     0.0138     35   \n",
       "94          0.092002   0.187320    ...             0.02     0.0138     35   \n",
       "244         0.019941   0.024015    ...             0.02     0.0138     35   \n",
       "\n",
       "      dis_cost  co_return  ret_vs_sp  log_co_return  return_class  sp_class  \\\n",
       "312   0.039020   0.502262   0.488462      -0.688633             1         1   \n",
       "212   0.039020   0.191842   0.178042      -1.651085             1         1   \n",
       "414   0.039020   0.093739   0.079939      -2.367242             2         1   \n",
       "90    0.039020   0.070410   0.056610      -2.653418             2         1   \n",
       "1025  0.039020   0.208852   0.195052      -1.566127             1         1   \n",
       "618   0.039020   0.222640   0.208840      -1.502199             1         1   \n",
       "1500  0.039020   0.169329   0.155529      -1.775909             1         1   \n",
       "1009  0.039020   0.054384   0.040584      -2.911681             2         1   \n",
       "1436  0.039020   0.174694   0.160894      -1.744720             1         1   \n",
       "122   0.039020   0.216710   0.202910      -1.529197             1         1   \n",
       "662   0.039020  -0.167674  -0.181474            NaN             3         0   \n",
       "722   0.039020  -0.051143  -0.064943            NaN             3         0   \n",
       "1779  0.039020  -0.028891  -0.042691            NaN             3         0   \n",
       "1400  0.039020  -0.049098  -0.062898            NaN             3         0   \n",
       "746   0.292196   0.000000  -0.117700           -inf             2         0   \n",
       "494   0.039020  -0.008229  -0.022029            NaN             3         0   \n",
       "126   0.039020  -0.113444  -0.127244            NaN             3         0   \n",
       "418   0.039020  -0.064786  -0.078586            NaN             3         0   \n",
       "94    0.039020  -0.110373  -0.124173            NaN             3         0   \n",
       "244   0.039020  -0.329471  -0.343271            NaN             3         0   \n",
       "\n",
       "      pred_prob  \n",
       "312      0.8125  \n",
       "212      0.7250  \n",
       "414      0.6875  \n",
       "90       0.6500  \n",
       "1025     0.6250  \n",
       "618      0.5875  \n",
       "1500     0.5750  \n",
       "1009     0.5000  \n",
       "1436     0.4625  \n",
       "122      0.4500  \n",
       "662      0.6875  \n",
       "722      0.6875  \n",
       "1779     0.6125  \n",
       "1400     0.5875  \n",
       "746      0.5750  \n",
       "494      0.5625  \n",
       "126      0.5500  \n",
       "418      0.5500  \n",
       "94       0.5375  \n",
       "244      0.5375  \n",
       "\n",
       "[20 rows x 94 columns]"
      ]
     },
     "execution_count": 48,
     "metadata": {},
     "output_type": "execute_result"
    }
   ],
   "source": [
    "df15.sort_values(['sp_class','pred_prob'],ascending=False).groupby('sp_class')\\\n",
    ".head(10)\n",
    "\n"
   ]
  },
  {
   "cell_type": "code",
   "execution_count": null,
   "metadata": {
    "collapsed": true
   },
   "outputs": [],
   "source": [
    "df_bt = df15 "
   ]
  },
  {
   "cell_type": "code",
   "execution_count": 45,
   "metadata": {
    "collapsed": true
   },
   "outputs": [],
   "source": [
    "x15 = df15[['accountspayable',\n",
    "       'accountsreceivable', 'addlincomeexpenseitems', 'aftertaxroe',\n",
    "       'capitalexpenditures', 'capitalsurplus', 'cashratio',\n",
    "       'cashandcashequivalents', 'changesininventories', 'commonstocks',\n",
    "       'costofrevenue', 'currentratio', 'deferredassetcharges',\n",
    "       'deferredliabilitycharges', 'depreciation',\n",
    "       'earningsbeforeinterestandtax', 'earningsbeforetax',\n",
    "       'effectofexchangerate', 'equityearningslossunconsolidatedsubsidiary',\n",
    "       'fixedassets', 'goodwill', 'grossmargin', 'grossprofit', 'incometax',\n",
    "       'intangibleassets', 'interestexpense', 'inventory', 'investments',\n",
    "       'liabilities', 'longtermdebt', 'longterminvestments',\n",
    "       'minorityinterest', 'miscstocks', 'netborrowings', 'netcashflow',\n",
    "       'netcashflowoperating', 'netcashflowsfinancing',\n",
    "       'netcashflowsinvesting', 'netincome', 'netincomeadjustments',\n",
    "       'netincomeapplicabletocommonshareholders', 'netincomecontoperations',\n",
    "       'netreceivables', 'nonrecurringitems', 'operatingincome',\n",
    "       'operatingmargin', 'otherassets', 'othercurrentassets',\n",
    "       'othercurrentliabilities', 'otherequity', 'otherfinancingactivities',\n",
    "       'otherinvestingactivities', 'otherliabilities',\n",
    "       'otheroperatingactivities', 'otheroperatingitems', 'pretaxmargin',\n",
    "       'pretaxroe', 'profitmargin', 'quickratio', 'researchanddevelopment',\n",
    "       'retainedearnings', 'saleandpurchaseofstock', 'salesgeneralandadmin',\n",
    "       'shorttermdebtcurrentportionoflongtermdebt', 'shortterminvestments',\n",
    "       'totalassets', 'totalcurrentassets', 'totalcurrentliabilities',\n",
    "       'totalequity', 'totalliabilities', 'totalliabilitiesequity',\n",
    "       'totalrevenue', 'treasurystock',  'earningspershare',\n",
    "       'estimatedsharesoutstanding', 'volume',\n",
    "       'housing_prices', '30year_mort', 'dis_cost',\n",
    "       ]]"
   ]
  },
  {
   "cell_type": "code",
   "execution_count": 52,
   "metadata": {},
   "outputs": [],
   "source": [
    "##ctxs luc fb alle nlsn dps\n",
    "\n"
   ]
  },
  {
   "cell_type": "code",
   "execution_count": null,
   "metadata": {
    "collapsed": true
   },
   "outputs": [],
   "source": []
  },
  {
   "cell_type": "code",
   "execution_count": null,
   "metadata": {
    "collapsed": true
   },
   "outputs": [],
   "source": []
  }
 ],
 "metadata": {
  "kernelspec": {
   "display_name": "Python 3",
   "language": "python",
   "name": "python3"
  },
  "language_info": {
   "codemirror_mode": {
    "name": "ipython",
    "version": 3
   },
   "file_extension": ".py",
   "mimetype": "text/x-python",
   "name": "python",
   "nbconvert_exporter": "python",
   "pygments_lexer": "ipython3",
   "version": "3.6.3"
  }
 },
 "nbformat": 4,
 "nbformat_minor": 2
}
